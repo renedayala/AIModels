{
  "metadata": {
    "kernelspec": {
      "name": "python",
      "display_name": "Python (Pyodide)",
      "language": "python"
    },
    "language_info": {
      "codemirror_mode": {
        "name": "python",
        "version": 3
      },
      "file_extension": ".py",
      "mimetype": "text/x-python",
      "name": "python",
      "nbconvert_exporter": "python",
      "pygments_lexer": "ipython3",
      "version": "3.8"
    }
  },
  "nbformat_minor": 5,
  "nbformat": 4,
  "cells": [
    {
      "id": "e73dd977-118d-4b28-b217-b2b062b2bacf",
      "cell_type": "code",
      "source": "!pip install xgboost pandas geopandas matplotlib seaborn",
      "metadata": {
        "trusted": true
      },
      "outputs": [],
      "execution_count": null
    },
    {
      "id": "b96b0df3-25bb-4a78-81b5-10b0cc3f7c64",
      "cell_type": "code",
      "source": "# Step 1\n# Load and clean Earthquake Data\n\nimport pandas as pd\n\n# Define the source URL for weekly earthquake data\nsource_url = 'https://earthquake.usgs.gov/earthquakes/feed/v1.0/summary/all_week.csv'\n\n# Read the CSV directly into the frame\nearthquakes = pd.read_csv(source_url)\n\n# Select relevant columns and remove rows with missing values\nearthquakes = earthquakes[['latitude','longitude','mag']].dropna()\n\n# Rename columns for clarity\nearthquakes.columns = ['Latitude','Longitude','Magnitude']\n\n#Preview the cleaned dataset\nearthquakes.head()",
      "metadata": {
        "trusted": true
      },
      "outputs": [],
      "execution_count": null
    },
    {
      "id": "74d010de-6806-450f-9a69-211debe0077d",
      "cell_type": "code",
      "source": "# Step 2\n# Convert to Geospatial format and visualize locations\n\nimport geopandas as gpd\nimport matplotlib.pyplot as plt\n\n# Create geometric points from coordinates\nearthquake_points = gpd.points_from_xy(earthquakes['Longitude'], earthquakes['Latitude'])\n\n# Wrap the DataFrame into a GeoDataFrame\ngeo_quakes = gpd.GeoDataFrame (earthquakes, geometry=earthquake_points)\n\n# Plot earthquake locations on a coordinate grid\ngeo_quakes.plot(marker='o', color='crimson', markersize=5, figsize=(10, 6))\nplt.title('Global Earthquake Locations')\nplt.show()",
      "metadata": {
        "trusted": true
      },
      "outputs": [],
      "execution_count": null
    },
    {
      "id": "bff492b4-5a3e-4ce3-b14e-f198f4e4fa29",
      "cell_type": "code",
      "source": "# Step 3\n# Training a ML Model to predict magnitude\n\nimport warnings\nimport xgboost as xgb\nfrom sklearn.model_selection import train_test_split\nfrom sklearn.metrics import mean_squared_error\n\n# Silence specific system warnings from XGBoost\nwarnings.filterwarnings(\n    \"ignore\",\n    message=\"Your system has an old version of glibc.*\",\n    category=FutureWarning,\n    module=\"xgboost.core\"\n)\n\n# Optional: Check glibc version (linux only)\nimport subprocess\ntry:\n    version_info = subprocess.check_output(\"ldd --version\", shell=True).decode().split('\\n')[0]\n    print(f\"glibc version: {version_info}\")\nexcept Exception as err:\n    print (\"glibc version check failed:\", err)\n\n# Define input features and target value\nfeatures = earthquakes[['Latitude', 'Longitude']]\ntarget = earthquakes['Magnitude']\n\n# Split data into training and testing sets\nX_train, X_test, y_train, y_test = train_test_split(features, target, test_size=0.2, random_state=42)\n\n# Initialize and train XGBoost regressor\nregressor = xgb.XGBRegressor(objective='reg:squarederror', n_estimators=100)\nregressor.fit(X_train, y_train)\n\n# Predict and evaluate\npredictions = regressor.predict(X_test)\nmse = mean_squared_error(y_test, predictions)\nprint(f\"Model Mean Square Error: {mse:.4f}\")",
      "metadata": {
        "trusted": true
      },
      "outputs": [],
      "execution_count": null
    },
    {
      "id": "c7838e8c-3241-4c3b-8a66-388e84669bc2",
      "cell_type": "code",
      "source": "# Step 4\n# Visualize Predicted Magnitudes Geospatially\n\nearthquakes['Predicted_Magnitude'] = regressor.predict(features)\n\n# Recreate GeoDataFrame with updated data\ngeo_quakes = gpd.GeoDataFrame(earthquakes, geometry=gpd.points_from_xy(earthquakes['Longitude'], earthquakes['Latitude']))\n\n# Plot predicted magnitudesusing a color gradient\ngeo_quakes.plot(\n    column='Predicted_Magnitude',\n    cmap='coolwarm',\n    legend=True,\n    markersize=5,\n    figsize=(10, 6)\n)\nplt.title(\"Predicted Earthquake Magnitudes by Location\")\nplt.show()",
      "metadata": {
        "trusted": true
      },
      "outputs": [],
      "execution_count": null
    }
  ]
}